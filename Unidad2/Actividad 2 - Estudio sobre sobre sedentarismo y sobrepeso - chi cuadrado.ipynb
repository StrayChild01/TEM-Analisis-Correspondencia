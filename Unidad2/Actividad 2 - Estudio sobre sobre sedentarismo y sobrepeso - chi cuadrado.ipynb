{
 "cells": [
  {
   "cell_type": "markdown",
   "metadata": {},
   "source": [
    "# Actividad 1 - Estudio sobre rendimiento físico"
   ]
  },
  {
   "cell_type": "markdown",
   "metadata": {},
   "source": [
    "| Tabla cruzada  | Con sobrepeso | Sin sobrepeso | Total |\n",
    "|----------------|---------------|---------------|-------|\n",
    "| Sedentarios    | 100           | 200           | 300   |\n",
    "| No Sedentarios | 50            | 650           | 700   |\n",
    "| Total          | 150           | 850           | 1000  |"
   ]
  },
  {
   "cell_type": "code",
   "execution_count": 2,
   "metadata": {},
   "outputs": [
    {
     "data": {
      "text/html": [
       "<table>\n",
       "<caption>A data.frame: 2 × 2</caption>\n",
       "<thead>\n",
       "\t<tr><th></th><th scope=col>con_sobrepeso</th><th scope=col>sin_sobrepeso</th></tr>\n",
       "\t<tr><th></th><th scope=col>&lt;dbl&gt;</th><th scope=col>&lt;dbl&gt;</th></tr>\n",
       "</thead>\n",
       "<tbody>\n",
       "\t<tr><th scope=row>Sedentarios</th><td>100</td><td>200</td></tr>\n",
       "\t<tr><th scope=row>No_sedentarios</th><td> 50</td><td>650</td></tr>\n",
       "</tbody>\n",
       "</table>\n"
      ],
      "text/latex": [
       "A data.frame: 2 × 2\n",
       "\\begin{tabular}{r|ll}\n",
       "  & con\\_sobrepeso & sin\\_sobrepeso\\\\\n",
       "  & <dbl> & <dbl>\\\\\n",
       "\\hline\n",
       "\tSedentarios & 100 & 200\\\\\n",
       "\tNo\\_sedentarios &  50 & 650\\\\\n",
       "\\end{tabular}\n"
      ],
      "text/markdown": [
       "\n",
       "A data.frame: 2 × 2\n",
       "\n",
       "| <!--/--> | con_sobrepeso &lt;dbl&gt; | sin_sobrepeso &lt;dbl&gt; |\n",
       "|---|---|---|\n",
       "| Sedentarios | 100 | 200 |\n",
       "| No_sedentarios |  50 | 650 |\n",
       "\n"
      ],
      "text/plain": [
       "               con_sobrepeso sin_sobrepeso\n",
       "Sedentarios    100           200          \n",
       "No_sedentarios  50           650          "
      ]
     },
     "metadata": {},
     "output_type": "display_data"
    }
   ],
   "source": [
    "valores_observados <- data.frame(\n",
    "    \"con_sobrepeso\" = c(100, 50),\n",
    "    \"sin_sobrepeso\" = c(200, 650)\n",
    ")\n",
    "rownames(valores_observados)<-c(\"Sedentarios\", \"No_sedentarios\")\n",
    "valores_observados"
   ]
  },
  {
   "cell_type": "markdown",
   "metadata": {},
   "source": [
    "Hacemos la prueba de independencia de Pearson"
   ]
  },
  {
   "cell_type": "code",
   "execution_count": 2,
   "metadata": {},
   "outputs": [
    {
     "data": {
      "text/plain": [
       "\n",
       "\tPearson's Chi-squared test\n",
       "\n",
       "data:  valores_observados\n",
       "X-squared = 112.98, df = 1, p-value < 2.2e-16\n"
      ]
     },
     "metadata": {},
     "output_type": "display_data"
    }
   ],
   "source": [
    "# Cuando correct=T, chisq hace una correción de continuidad de Yates\n",
    "# Esto cuando es una matriz de 2x2\n",
    "chi2<-chisq.test(valores_observados, correct=FALSE)\n",
    "#Valores esperados\n",
    "#chi2$expected\n",
    "# Imprimimos el estadístico de prueba\n",
    "chi2\n",
    "\n",
    "#help(chisq.test)"
   ]
  },
  {
   "cell_type": "markdown",
   "metadata": {},
   "source": [
    "Hacemos la prueba de la máxima verosimilitud."
   ]
  },
  {
   "cell_type": "code",
   "execution_count": 2,
   "metadata": {},
   "outputs": [
    {
     "data": {
      "text/plain": [
       "\n",
       "\tLog likelihood ratio (G-test) test of independence without correction\n",
       "\n",
       "data:  valores_observados\n",
       "G = 103.26, X-squared df = 1, p-value < 2.2e-16\n"
      ]
     },
     "metadata": {},
     "output_type": "display_data"
    }
   ],
   "source": [
    "library(DescTools)\n",
    "GTest(valores_observados)"
   ]
  },
  {
   "cell_type": "markdown",
   "metadata": {},
   "source": [
    "Hacemos las pruebas de riesgo."
   ]
  },
  {
   "cell_type": "code",
   "execution_count": 4,
   "metadata": {},
   "outputs": [],
   "source": [
    "library(epiR)\n",
    "#epi.2by2(as.matrix(valores_observados), conf.level=.95, method=\"cohort.count\")\n",
    "pruebas<-epi.2by2(as.matrix(valores_observados), conf.level=.95, method=\"cohort.count\")"
   ]
  },
  {
   "cell_type": "code",
   "execution_count": 5,
   "metadata": {},
   "outputs": [
    {
     "data": {
      "text/plain": [
       "             Outcome +    Outcome -      Total        Inc risk *        Odds\n",
       "Exposed +          100          200        300             33.33      0.5000\n",
       "Exposed -           50          650        700              7.14      0.0769\n",
       "Total              150          850       1000             15.00      0.1765\n",
       "\n",
       "Point estimates and 95% CIs:\n",
       "-------------------------------------------------------------------\n",
       "Inc risk ratio                               4.67 (3.42, 6.37)\n",
       "Odds ratio                                   6.50 (4.47, 9.45)\n",
       "Attrib risk *                                26.19 (20.53, 31.86)\n",
       "Attrib risk in population *                  7.86 (4.94, 10.78)\n",
       "Attrib fraction in exposed (%)               78.57 (70.74, 84.30)\n",
       "Attrib fraction in population (%)            52.38 (41.05, 61.53)\n",
       "-------------------------------------------------------------------\n",
       " Test that odds ratio = 1: chi2(1) = 112.979 Pr>chi2 = < 0.001\n",
       " Wald confidence limits\n",
       " CI: confidence interval\n",
       " * Outcomes per 100 population units "
      ]
     },
     "metadata": {},
     "output_type": "display_data"
    }
   ],
   "source": [
    "pruebas"
   ]
  },
  {
   "cell_type": "code",
   "execution_count": 7,
   "metadata": {},
   "outputs": [
    {
     "data": {
      "text/plain": [
       "             Outcome +    Outcome -      Total        Prevalence *        Odds\n",
       "Exposed +          100          200        300               33.33      0.5000\n",
       "Exposed -           50          650        700                7.14      0.0769\n",
       "Total              150          850       1000               15.00      0.1765\n",
       "\n",
       "Point estimates and 95% CIs:\n",
       "-------------------------------------------------------------------\n",
       "Prevalence ratio                             4.67 (3.42, 6.37)\n",
       "Odds ratio                                   6.50 (4.47, 9.45)\n",
       "Attrib prevalence *                          26.19 (20.53, 31.86)\n",
       "Attrib prevalence in population *            7.86 (4.94, 10.78)\n",
       "Attrib fraction in exposed (%)              78.57 (70.74, 84.30)\n",
       "Attrib fraction in population (%)           52.38 (41.05, 61.53)\n",
       "-------------------------------------------------------------------\n",
       " Test that odds ratio = 1: chi2(1) = 112.979 Pr>chi2 = < 0.001\n",
       " Wald confidence limits\n",
       " CI: confidence interval\n",
       " * Outcomes per 100 population units "
      ]
     },
     "metadata": {},
     "output_type": "display_data"
    }
   ],
   "source": [
    "pruebas"
   ]
  }
 ],
 "metadata": {
  "kernelspec": {
   "display_name": "R",
   "language": "R",
   "name": "ir"
  },
  "language_info": {
   "codemirror_mode": "r",
   "file_extension": ".r",
   "mimetype": "text/x-r-source",
   "name": "R",
   "pygments_lexer": "r",
   "version": "3.6.0"
  },
  "latex_envs": {
   "LaTeX_envs_menu_present": true,
   "autoclose": false,
   "autocomplete": false,
   "bibliofile": "biblio.bib",
   "cite_by": "apalike",
   "current_citInitial": 1,
   "eqLabelWithNumbers": true,
   "eqNumInitial": 1,
   "hotkeys": {
    "equation": "Ctrl-E",
    "itemize": "Ctrl-I"
   },
   "labels_anchors": false,
   "latex_user_defs": false,
   "report_style_numbering": false,
   "user_envs_cfg": false
  }
 },
 "nbformat": 4,
 "nbformat_minor": 2
}
