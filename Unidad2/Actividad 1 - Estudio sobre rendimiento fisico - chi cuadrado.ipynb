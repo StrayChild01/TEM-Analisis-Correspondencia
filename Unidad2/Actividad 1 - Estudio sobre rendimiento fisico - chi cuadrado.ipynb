{
 "cells": [
  {
   "cell_type": "markdown",
   "metadata": {},
   "source": [
    "# Actividad 1 - Estudio sobre rendimiento físico"
   ]
  },
  {
   "cell_type": "markdown",
   "metadata": {},
   "source": [
    "| .    | Velocidad | <11 | 11-15 | >15 | Total |\n",
    "|------|-----------|-----|-------|-----|-------|\n",
    "| Edad | <=17      | 34  | 18    | 10  | 62    |\n",
    "| .    | 18-29     | 25  | 23    | 21  | 69    |\n",
    "| .    | >=30      | 14  | 24    | 31  | 69    |\n",
    "| .    | Total     | 73  | 65    | 62  | 200   |"
   ]
  },
  {
   "cell_type": "code",
   "execution_count": 1,
   "metadata": {},
   "outputs": [
    {
     "data": {
      "text/html": [
       "<table>\n",
       "<caption>A data.frame: 3 × 3</caption>\n",
       "<thead>\n",
       "\t<tr><th></th><th scope=col>menos_11</th><th scope=col>once_a_15</th><th scope=col>mayor_a_15</th></tr>\n",
       "\t<tr><th></th><th scope=col>&lt;dbl&gt;</th><th scope=col>&lt;dbl&gt;</th><th scope=col>&lt;dbl&gt;</th></tr>\n",
       "</thead>\n",
       "<tbody>\n",
       "\t<tr><th scope=row>menor_18</th><td>34</td><td>18</td><td>10</td></tr>\n",
       "\t<tr><th scope=row>dieciocho_29</th><td>25</td><td>23</td><td>21</td></tr>\n",
       "\t<tr><th scope=row>mayor_a_30</th><td>14</td><td>24</td><td>31</td></tr>\n",
       "</tbody>\n",
       "</table>\n"
      ],
      "text/latex": [
       "A data.frame: 3 × 3\n",
       "\\begin{tabular}{r|lll}\n",
       "  & menos\\_11 & once\\_a\\_15 & mayor\\_a\\_15\\\\\n",
       "  & <dbl> & <dbl> & <dbl>\\\\\n",
       "\\hline\n",
       "\tmenor\\_18 & 34 & 18 & 10\\\\\n",
       "\tdieciocho\\_29 & 25 & 23 & 21\\\\\n",
       "\tmayor\\_a\\_30 & 14 & 24 & 31\\\\\n",
       "\\end{tabular}\n"
      ],
      "text/markdown": [
       "\n",
       "A data.frame: 3 × 3\n",
       "\n",
       "| <!--/--> | menos_11 &lt;dbl&gt; | once_a_15 &lt;dbl&gt; | mayor_a_15 &lt;dbl&gt; |\n",
       "|---|---|---|---|\n",
       "| menor_18 | 34 | 18 | 10 |\n",
       "| dieciocho_29 | 25 | 23 | 21 |\n",
       "| mayor_a_30 | 14 | 24 | 31 |\n",
       "\n"
      ],
      "text/plain": [
       "             menos_11 once_a_15 mayor_a_15\n",
       "menor_18     34       18        10        \n",
       "dieciocho_29 25       23        21        \n",
       "mayor_a_30   14       24        31        "
      ]
     },
     "metadata": {},
     "output_type": "display_data"
    }
   ],
   "source": [
    "valores_observados <- data.frame(\n",
    "    \"menos_11\" = c(34, 25, 14),\n",
    "    \"once_a_15\" = c(18, 23, 24),\n",
    "    \"mayor_a_15\" = c(10, 21, 31)\n",
    ")\n",
    "rownames(valores_observados)<-c(\"menor_18\", \"dieciocho_29\", \"mayor_a_30\")\n",
    "valores_observados"
   ]
  },
  {
   "cell_type": "markdown",
   "metadata": {},
   "source": [
    "Hacemos la prueba de independencia chi cuadrada de Pearson"
   ]
  },
  {
   "cell_type": "code",
   "execution_count": 2,
   "metadata": {},
   "outputs": [
    {
     "data": {
      "text/plain": [
       "\n",
       "\tPearson's Chi-squared test\n",
       "\n",
       "data:  valores_observados\n",
       "X-squared = 19.784, df = 4, p-value = 0.000551\n"
      ]
     },
     "metadata": {},
     "output_type": "display_data"
    }
   ],
   "source": [
    "# chisq es de RBase\n",
    "chi2<-chisq.test(valores_observados)\n",
    "chi2"
   ]
  },
  {
   "cell_type": "markdown",
   "metadata": {},
   "source": [
    "Hacemos la prueba de independencia de máxima verosimilitud"
   ]
  },
  {
   "cell_type": "code",
   "execution_count": 3,
   "metadata": {},
   "outputs": [
    {
     "data": {
      "text/plain": [
       "\n",
       "\tLog likelihood ratio (G-test) test of independence without correction\n",
       "\n",
       "data:  valores_observados\n",
       "G = 20.398, X-squared df = 4, p-value = 0.0004166\n"
      ]
     },
     "metadata": {},
     "output_type": "display_data"
    }
   ],
   "source": [
    "library(DescTools)\n",
    "GTest(valores_observados)"
   ]
  },
  {
   "cell_type": "code",
   "execution_count": null,
   "metadata": {},
   "outputs": [],
   "source": [
    "Extraemos los valores esperados de la tabla, mismos que valores sirven para hacer la prueba de independencia y comprobar la hipótesis nula."
   ]
  },
  {
   "cell_type": "markdown",
   "metadata": {},
   "source": [
    "Extraemos los residuales _no estandarizados_ de la prueba de independencia de Pearson."
   ]
  },
  {
   "cell_type": "code",
   "execution_count": 4,
   "metadata": {},
   "outputs": [
    {
     "data": {
      "text/html": [
       "<table>\n",
       "<caption>A matrix: 3 × 3 of type dbl</caption>\n",
       "<thead>\n",
       "\t<tr><th></th><th scope=col>menos_11</th><th scope=col>once_a_15</th><th scope=col>mayor_a_15</th></tr>\n",
       "</thead>\n",
       "<tbody>\n",
       "\t<tr><th scope=row>menor_18</th><td> 2.39011164</td><td>-0.4789619</td><td>-2.10307243</td></tr>\n",
       "\t<tr><th scope=row>dieciocho_29</th><td>-0.03686386</td><td> 0.1214232</td><td>-0.08432556</td></tr>\n",
       "\t<tr><th scope=row>mayor_a_30</th><td>-2.22876876</td><td> 0.3325939</td><td> 2.07786819</td></tr>\n",
       "</tbody>\n",
       "</table>\n"
      ],
      "text/latex": [
       "A matrix: 3 × 3 of type dbl\n",
       "\\begin{tabular}{r|lll}\n",
       "  & menos\\_11 & once\\_a\\_15 & mayor\\_a\\_15\\\\\n",
       "\\hline\n",
       "\tmenor\\_18 &  2.39011164 & -0.4789619 & -2.10307243\\\\\n",
       "\tdieciocho\\_29 & -0.03686386 &  0.1214232 & -0.08432556\\\\\n",
       "\tmayor\\_a\\_30 & -2.22876876 &  0.3325939 &  2.07786819\\\\\n",
       "\\end{tabular}\n"
      ],
      "text/markdown": [
       "\n",
       "A matrix: 3 × 3 of type dbl\n",
       "\n",
       "| <!--/--> | menos_11 | once_a_15 | mayor_a_15 |\n",
       "|---|---|---|---|\n",
       "| menor_18 |  2.39011164 | -0.4789619 | -2.10307243 |\n",
       "| dieciocho_29 | -0.03686386 |  0.1214232 | -0.08432556 |\n",
       "| mayor_a_30 | -2.22876876 |  0.3325939 |  2.07786819 |\n",
       "\n"
      ],
      "text/plain": [
       "             menos_11    once_a_15  mayor_a_15 \n",
       "menor_18      2.39011164 -0.4789619 -2.10307243\n",
       "dieciocho_29 -0.03686386  0.1214232 -0.08432556\n",
       "mayor_a_30   -2.22876876  0.3325939  2.07786819"
      ]
     },
     "metadata": {},
     "output_type": "display_data"
    }
   ],
   "source": [
    "chi2$residuals"
   ]
  },
  {
   "cell_type": "markdown",
   "metadata": {},
   "source": [
    "Extraemos los residuales _estandarizados_ de la prueba de independencia de Pearson"
   ]
  },
  {
   "cell_type": "code",
   "execution_count": 5,
   "metadata": {},
   "outputs": [
    {
     "data": {
      "text/html": [
       "<table>\n",
       "<caption>A matrix: 3 × 3 of type dbl</caption>\n",
       "<thead>\n",
       "\t<tr><th></th><th scope=col>menos_11</th><th scope=col>once_a_15</th><th scope=col>mayor_a_15</th></tr>\n",
       "</thead>\n",
       "<tbody>\n",
       "\t<tr><th scope=row>menor_18</th><td> 3.61082782</td><td>-0.7018180</td><td>-3.0479311</td></tr>\n",
       "\t<tr><th scope=row>dieciocho_29</th><td>-0.05716013</td><td> 0.1826119</td><td>-0.1254336</td></tr>\n",
       "\t<tr><th scope=row>mayor_a_30</th><td>-3.45587080</td><td> 0.5001978</td><td> 3.0908135</td></tr>\n",
       "</tbody>\n",
       "</table>\n"
      ],
      "text/latex": [
       "A matrix: 3 × 3 of type dbl\n",
       "\\begin{tabular}{r|lll}\n",
       "  & menos\\_11 & once\\_a\\_15 & mayor\\_a\\_15\\\\\n",
       "\\hline\n",
       "\tmenor\\_18 &  3.61082782 & -0.7018180 & -3.0479311\\\\\n",
       "\tdieciocho\\_29 & -0.05716013 &  0.1826119 & -0.1254336\\\\\n",
       "\tmayor\\_a\\_30 & -3.45587080 &  0.5001978 &  3.0908135\\\\\n",
       "\\end{tabular}\n"
      ],
      "text/markdown": [
       "\n",
       "A matrix: 3 × 3 of type dbl\n",
       "\n",
       "| <!--/--> | menos_11 | once_a_15 | mayor_a_15 |\n",
       "|---|---|---|---|\n",
       "| menor_18 |  3.61082782 | -0.7018180 | -3.0479311 |\n",
       "| dieciocho_29 | -0.05716013 |  0.1826119 | -0.1254336 |\n",
       "| mayor_a_30 | -3.45587080 |  0.5001978 |  3.0908135 |\n",
       "\n"
      ],
      "text/plain": [
       "             menos_11    once_a_15  mayor_a_15\n",
       "menor_18      3.61082782 -0.7018180 -3.0479311\n",
       "dieciocho_29 -0.05716013  0.1826119 -0.1254336\n",
       "mayor_a_30   -3.45587080  0.5001978  3.0908135"
      ]
     },
     "metadata": {},
     "output_type": "display_data"
    }
   ],
   "source": [
    "chi2$stdres"
   ]
  },
  {
   "cell_type": "markdown",
   "metadata": {},
   "source": [
    "Obtenemos el valor crítico de Ji cuadrada de tablas."
   ]
  },
  {
   "cell_type": "code",
   "execution_count": 6,
   "metadata": {},
   "outputs": [],
   "source": [
    "r<-nrow(valores_observados)\n",
    "c<-ncol(valores_observados)\n",
    "grados_libertad<-(r-1)*(c-1)"
   ]
  },
  {
   "cell_type": "code",
   "execution_count": 7,
   "metadata": {},
   "outputs": [
    {
     "data": {
      "text/html": [
       "9.48772903678115"
      ],
      "text/latex": [
       "9.48772903678115"
      ],
      "text/markdown": [
       "9.48772903678115"
      ],
      "text/plain": [
       "[1] 9.487729"
      ]
     },
     "metadata": {},
     "output_type": "display_data"
    }
   ],
   "source": [
    "qchisq(0.95, df=grados_libertad)"
   ]
  },
  {
   "cell_type": "markdown",
   "metadata": {},
   "source": [
    "Haciendo la prueba de hipótesis:\n",
    "\n",
    "  - $H_0$: No existe relación entre la velocidad promedio y edad de los ciclistas\n",
    "\n",
    "  - $H_1$: Existe relación entre la velocidad promedio y edad de los ciclistas\n",
    "\n",
    "De lo anterior hay suficiente evidencia estadística para afirmar que hay relación entre la velocidad promedio y la edad de los ciclistas.\n",
    "\n",
    "_Esto no implica causalidad, ya que no se puede afirmar que el cambio de edad cause que el ciclista tenga mayor velocidad._"
   ]
  }
 ],
 "metadata": {
  "kernelspec": {
   "display_name": "R",
   "language": "R",
   "name": "ir"
  },
  "language_info": {
   "codemirror_mode": "r",
   "file_extension": ".r",
   "mimetype": "text/x-r-source",
   "name": "R",
   "pygments_lexer": "r",
   "version": "3.6.0"
  },
  "latex_envs": {
   "LaTeX_envs_menu_present": true,
   "autoclose": false,
   "autocomplete": false,
   "bibliofile": "biblio.bib",
   "cite_by": "apalike",
   "current_citInitial": 1,
   "eqLabelWithNumbers": true,
   "eqNumInitial": 1,
   "hotkeys": {
    "equation": "Ctrl-E",
    "itemize": "Ctrl-I"
   },
   "labels_anchors": false,
   "latex_user_defs": false,
   "report_style_numbering": false,
   "user_envs_cfg": false
  }
 },
 "nbformat": 4,
 "nbformat_minor": 2
}
