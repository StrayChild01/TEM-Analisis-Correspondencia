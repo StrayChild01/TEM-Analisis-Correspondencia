{
 "cells": [
  {
   "cell_type": "markdown",
   "metadata": {},
   "source": [
    "# Actividad 1 - Estudio sobre rendimiento físico"
   ]
  },
  {
   "cell_type": "markdown",
   "metadata": {},
   "source": [
    "| .    | Velocidad | <11 | 11-15 | >15 | Total |\n",
    "|------|-----------|-----|-------|-----|-------|\n",
    "| Edad | <=17      | 34  | 18    | 10  | 62    |\n",
    "| .    | 18-29     | 25  | 23    | 21  | 69    |\n",
    "| .    | >=30      | 14  | 24    | 31  | 69    |\n",
    "| .    | Total     | 73  | 65    | 62  | 200   |"
   ]
  },
  {
   "cell_type": "code",
   "execution_count": 1,
   "metadata": {},
   "outputs": [
    {
     "data": {
      "text/html": [
       "<table>\n",
       "<caption>A data.frame: 3 × 3</caption>\n",
       "<thead>\n",
       "\t<tr><th></th><th scope=col>menos_11</th><th scope=col>once_a_15</th><th scope=col>mayor_a_15</th></tr>\n",
       "\t<tr><th></th><th scope=col>&lt;dbl&gt;</th><th scope=col>&lt;dbl&gt;</th><th scope=col>&lt;dbl&gt;</th></tr>\n",
       "</thead>\n",
       "<tbody>\n",
       "\t<tr><th scope=row>menor_18</th><td>34</td><td>18</td><td>10</td></tr>\n",
       "\t<tr><th scope=row>dieciocho_29</th><td>25</td><td>23</td><td>21</td></tr>\n",
       "\t<tr><th scope=row>mayor_a_30</th><td>14</td><td>24</td><td>31</td></tr>\n",
       "</tbody>\n",
       "</table>\n"
      ],
      "text/latex": [
       "A data.frame: 3 × 3\n",
       "\\begin{tabular}{r|lll}\n",
       "  & menos\\_11 & once\\_a\\_15 & mayor\\_a\\_15\\\\\n",
       "  & <dbl> & <dbl> & <dbl>\\\\\n",
       "\\hline\n",
       "\tmenor\\_18 & 34 & 18 & 10\\\\\n",
       "\tdieciocho\\_29 & 25 & 23 & 21\\\\\n",
       "\tmayor\\_a\\_30 & 14 & 24 & 31\\\\\n",
       "\\end{tabular}\n"
      ],
      "text/markdown": [
       "\n",
       "A data.frame: 3 × 3\n",
       "\n",
       "| <!--/--> | menos_11 &lt;dbl&gt; | once_a_15 &lt;dbl&gt; | mayor_a_15 &lt;dbl&gt; |\n",
       "|---|---|---|---|\n",
       "| menor_18 | 34 | 18 | 10 |\n",
       "| dieciocho_29 | 25 | 23 | 21 |\n",
       "| mayor_a_30 | 14 | 24 | 31 |\n",
       "\n"
      ],
      "text/plain": [
       "             menos_11 once_a_15 mayor_a_15\n",
       "menor_18     34       18        10        \n",
       "dieciocho_29 25       23        21        \n",
       "mayor_a_30   14       24        31        "
      ]
     },
     "metadata": {},
     "output_type": "display_data"
    }
   ],
   "source": [
    "valores_observados <- data.frame(\n",
    "    \"menos_11\" = c(34, 25, 14),\n",
    "    \"once_a_15\" = c(18, 23, 24),\n",
    "    \"mayor_a_15\" = c(10, 21, 31)\n",
    ")\n",
    "rownames(valores_observados)<-c(\"menor_18\", \"dieciocho_29\", \"mayor_a_30\")\n",
    "valores_observados"
   ]
  },
  {
   "cell_type": "markdown",
   "metadata": {},
   "source": [
    "Calculamos la tabla de proporciones del total:"
   ]
  },
  {
   "cell_type": "code",
   "execution_count": 2,
   "metadata": {},
   "outputs": [
    {
     "data": {
      "text/html": [
       "<table>\n",
       "<caption>A data.frame: 3 × 3</caption>\n",
       "<thead>\n",
       "\t<tr><th></th><th scope=col>menos_11</th><th scope=col>once_a_15</th><th scope=col>mayor_a_15</th></tr>\n",
       "\t<tr><th></th><th scope=col>&lt;dbl&gt;</th><th scope=col>&lt;dbl&gt;</th><th scope=col>&lt;dbl&gt;</th></tr>\n",
       "</thead>\n",
       "<tbody>\n",
       "\t<tr><th scope=row>menor_18</th><td>0.170</td><td>0.090</td><td>0.050</td></tr>\n",
       "\t<tr><th scope=row>dieciocho_29</th><td>0.125</td><td>0.115</td><td>0.105</td></tr>\n",
       "\t<tr><th scope=row>mayor_a_30</th><td>0.070</td><td>0.120</td><td>0.155</td></tr>\n",
       "</tbody>\n",
       "</table>\n"
      ],
      "text/latex": [
       "A data.frame: 3 × 3\n",
       "\\begin{tabular}{r|lll}\n",
       "  & menos\\_11 & once\\_a\\_15 & mayor\\_a\\_15\\\\\n",
       "  & <dbl> & <dbl> & <dbl>\\\\\n",
       "\\hline\n",
       "\tmenor\\_18 & 0.170 & 0.090 & 0.050\\\\\n",
       "\tdieciocho\\_29 & 0.125 & 0.115 & 0.105\\\\\n",
       "\tmayor\\_a\\_30 & 0.070 & 0.120 & 0.155\\\\\n",
       "\\end{tabular}\n"
      ],
      "text/markdown": [
       "\n",
       "A data.frame: 3 × 3\n",
       "\n",
       "| <!--/--> | menos_11 &lt;dbl&gt; | once_a_15 &lt;dbl&gt; | mayor_a_15 &lt;dbl&gt; |\n",
       "|---|---|---|---|\n",
       "| menor_18 | 0.170 | 0.090 | 0.050 |\n",
       "| dieciocho_29 | 0.125 | 0.115 | 0.105 |\n",
       "| mayor_a_30 | 0.070 | 0.120 | 0.155 |\n",
       "\n"
      ],
      "text/plain": [
       "             menos_11 once_a_15 mayor_a_15\n",
       "menor_18     0.170    0.090     0.050     \n",
       "dieciocho_29 0.125    0.115     0.105     \n",
       "mayor_a_30   0.070    0.120     0.155     "
      ]
     },
     "metadata": {},
     "output_type": "display_data"
    }
   ],
   "source": [
    "prop.table(valores_observados)"
   ]
  },
  {
   "cell_type": "markdown",
   "metadata": {},
   "source": [
    "Para calcular la tabla de proporciones de las filas (con sumas marginales):"
   ]
  },
  {
   "cell_type": "code",
   "execution_count": 3,
   "metadata": {},
   "outputs": [
    {
     "data": {
      "text/html": [
       "<table>\n",
       "<caption>A matrix: 4 × 4 of type dbl</caption>\n",
       "<thead>\n",
       "\t<tr><th></th><th scope=col>menos_11</th><th scope=col>once_a_15</th><th scope=col>mayor_a_15</th><th scope=col>Sum</th></tr>\n",
       "</thead>\n",
       "<tbody>\n",
       "\t<tr><th scope=row>menor_18</th><td>0.5483871</td><td>0.2903226</td><td>0.1612903</td><td>1</td></tr>\n",
       "\t<tr><th scope=row>dieciocho_29</th><td>0.3623188</td><td>0.3333333</td><td>0.3043478</td><td>1</td></tr>\n",
       "\t<tr><th scope=row>mayor_a_30</th><td>0.2028986</td><td>0.3478261</td><td>0.4492754</td><td>1</td></tr>\n",
       "\t<tr><th scope=row>Sum</th><td>1.1136045</td><td>0.9714820</td><td>0.9149135</td><td>3</td></tr>\n",
       "</tbody>\n",
       "</table>\n"
      ],
      "text/latex": [
       "A matrix: 4 × 4 of type dbl\n",
       "\\begin{tabular}{r|llll}\n",
       "  & menos\\_11 & once\\_a\\_15 & mayor\\_a\\_15 & Sum\\\\\n",
       "\\hline\n",
       "\tmenor\\_18 & 0.5483871 & 0.2903226 & 0.1612903 & 1\\\\\n",
       "\tdieciocho\\_29 & 0.3623188 & 0.3333333 & 0.3043478 & 1\\\\\n",
       "\tmayor\\_a\\_30 & 0.2028986 & 0.3478261 & 0.4492754 & 1\\\\\n",
       "\tSum & 1.1136045 & 0.9714820 & 0.9149135 & 3\\\\\n",
       "\\end{tabular}\n"
      ],
      "text/markdown": [
       "\n",
       "A matrix: 4 × 4 of type dbl\n",
       "\n",
       "| <!--/--> | menos_11 | once_a_15 | mayor_a_15 | Sum |\n",
       "|---|---|---|---|---|\n",
       "| menor_18 | 0.5483871 | 0.2903226 | 0.1612903 | 1 |\n",
       "| dieciocho_29 | 0.3623188 | 0.3333333 | 0.3043478 | 1 |\n",
       "| mayor_a_30 | 0.2028986 | 0.3478261 | 0.4492754 | 1 |\n",
       "| Sum | 1.1136045 | 0.9714820 | 0.9149135 | 3 |\n",
       "\n"
      ],
      "text/plain": [
       "             menos_11  once_a_15 mayor_a_15 Sum\n",
       "menor_18     0.5483871 0.2903226 0.1612903  1  \n",
       "dieciocho_29 0.3623188 0.3333333 0.3043478  1  \n",
       "mayor_a_30   0.2028986 0.3478261 0.4492754  1  \n",
       "Sum          1.1136045 0.9714820 0.9149135  3  "
      ]
     },
     "metadata": {},
     "output_type": "display_data"
    }
   ],
   "source": [
    "addmargins(prop.table(as.matrix(valores_observados), 1))"
   ]
  },
  {
   "cell_type": "markdown",
   "metadata": {},
   "source": [
    "Para calcular las proporciones de las columnas (con sumas marginales):"
   ]
  },
  {
   "cell_type": "code",
   "execution_count": 4,
   "metadata": {},
   "outputs": [
    {
     "data": {
      "text/html": [
       "<table>\n",
       "<caption>A matrix: 4 × 4 of type dbl</caption>\n",
       "<thead>\n",
       "\t<tr><th></th><th scope=col>menos_11</th><th scope=col>once_a_15</th><th scope=col>mayor_a_15</th><th scope=col>Sum</th></tr>\n",
       "</thead>\n",
       "<tbody>\n",
       "\t<tr><th scope=row>menor_18</th><td>0.4657534</td><td>0.2769231</td><td>0.1612903</td><td>0.9039668</td></tr>\n",
       "\t<tr><th scope=row>dieciocho_29</th><td>0.3424658</td><td>0.3538462</td><td>0.3387097</td><td>1.0350216</td></tr>\n",
       "\t<tr><th scope=row>mayor_a_30</th><td>0.1917808</td><td>0.3692308</td><td>0.5000000</td><td>1.0610116</td></tr>\n",
       "\t<tr><th scope=row>Sum</th><td>1.0000000</td><td>1.0000000</td><td>1.0000000</td><td>3.0000000</td></tr>\n",
       "</tbody>\n",
       "</table>\n"
      ],
      "text/latex": [
       "A matrix: 4 × 4 of type dbl\n",
       "\\begin{tabular}{r|llll}\n",
       "  & menos\\_11 & once\\_a\\_15 & mayor\\_a\\_15 & Sum\\\\\n",
       "\\hline\n",
       "\tmenor\\_18 & 0.4657534 & 0.2769231 & 0.1612903 & 0.9039668\\\\\n",
       "\tdieciocho\\_29 & 0.3424658 & 0.3538462 & 0.3387097 & 1.0350216\\\\\n",
       "\tmayor\\_a\\_30 & 0.1917808 & 0.3692308 & 0.5000000 & 1.0610116\\\\\n",
       "\tSum & 1.0000000 & 1.0000000 & 1.0000000 & 3.0000000\\\\\n",
       "\\end{tabular}\n"
      ],
      "text/markdown": [
       "\n",
       "A matrix: 4 × 4 of type dbl\n",
       "\n",
       "| <!--/--> | menos_11 | once_a_15 | mayor_a_15 | Sum |\n",
       "|---|---|---|---|---|\n",
       "| menor_18 | 0.4657534 | 0.2769231 | 0.1612903 | 0.9039668 |\n",
       "| dieciocho_29 | 0.3424658 | 0.3538462 | 0.3387097 | 1.0350216 |\n",
       "| mayor_a_30 | 0.1917808 | 0.3692308 | 0.5000000 | 1.0610116 |\n",
       "| Sum | 1.0000000 | 1.0000000 | 1.0000000 | 3.0000000 |\n",
       "\n"
      ],
      "text/plain": [
       "             menos_11  once_a_15 mayor_a_15 Sum      \n",
       "menor_18     0.4657534 0.2769231 0.1612903  0.9039668\n",
       "dieciocho_29 0.3424658 0.3538462 0.3387097  1.0350216\n",
       "mayor_a_30   0.1917808 0.3692308 0.5000000  1.0610116\n",
       "Sum          1.0000000 1.0000000 1.0000000  3.0000000"
      ]
     },
     "metadata": {},
     "output_type": "display_data"
    }
   ],
   "source": [
    "addmargins(prop.table(as.matrix(valores_observados), 2))"
   ]
  },
  {
   "cell_type": "markdown",
   "metadata": {},
   "source": [
    "Hacemos la prueba de independencia chi cuadrada de Pearson"
   ]
  },
  {
   "cell_type": "code",
   "execution_count": 5,
   "metadata": {},
   "outputs": [
    {
     "data": {
      "text/plain": [
       "\n",
       "\tPearson's Chi-squared test\n",
       "\n",
       "data:  valores_observados\n",
       "X-squared = 19.784, df = 4, p-value = 0.000551\n"
      ]
     },
     "metadata": {},
     "output_type": "display_data"
    }
   ],
   "source": [
    "# chisq es de RBase\n",
    "chi2<-chisq.test(valores_observados)\n",
    "chi2"
   ]
  },
  {
   "cell_type": "markdown",
   "metadata": {},
   "source": [
    "El resultado anterior significa que hay _cierta asociación_ entre los valores observados."
   ]
  },
  {
   "cell_type": "code",
   "execution_count": 6,
   "metadata": {},
   "outputs": [
    {
     "data": {
      "text/html": [
       "<table>\n",
       "<caption>A matrix: 3 × 3 of type dbl</caption>\n",
       "<thead>\n",
       "\t<tr><th></th><th scope=col>menos_11</th><th scope=col>once_a_15</th><th scope=col>mayor_a_15</th></tr>\n",
       "</thead>\n",
       "<tbody>\n",
       "\t<tr><th scope=row>menor_18</th><td>34</td><td>18</td><td>10</td></tr>\n",
       "\t<tr><th scope=row>dieciocho_29</th><td>25</td><td>23</td><td>21</td></tr>\n",
       "\t<tr><th scope=row>mayor_a_30</th><td>14</td><td>24</td><td>31</td></tr>\n",
       "</tbody>\n",
       "</table>\n"
      ],
      "text/latex": [
       "A matrix: 3 × 3 of type dbl\n",
       "\\begin{tabular}{r|lll}\n",
       "  & menos\\_11 & once\\_a\\_15 & mayor\\_a\\_15\\\\\n",
       "\\hline\n",
       "\tmenor\\_18 & 34 & 18 & 10\\\\\n",
       "\tdieciocho\\_29 & 25 & 23 & 21\\\\\n",
       "\tmayor\\_a\\_30 & 14 & 24 & 31\\\\\n",
       "\\end{tabular}\n"
      ],
      "text/markdown": [
       "\n",
       "A matrix: 3 × 3 of type dbl\n",
       "\n",
       "| <!--/--> | menos_11 | once_a_15 | mayor_a_15 |\n",
       "|---|---|---|---|\n",
       "| menor_18 | 34 | 18 | 10 |\n",
       "| dieciocho_29 | 25 | 23 | 21 |\n",
       "| mayor_a_30 | 14 | 24 | 31 |\n",
       "\n"
      ],
      "text/plain": [
       "             menos_11 once_a_15 mayor_a_15\n",
       "menor_18     34       18        10        \n",
       "dieciocho_29 25       23        21        \n",
       "mayor_a_30   14       24        31        "
      ]
     },
     "metadata": {},
     "output_type": "display_data"
    }
   ],
   "source": [
    "chi2$observed"
   ]
  },
  {
   "cell_type": "markdown",
   "metadata": {},
   "source": [
    "Hacemos la prueba de independencia de máxima verosimilitud"
   ]
  },
  {
   "cell_type": "code",
   "execution_count": 7,
   "metadata": {},
   "outputs": [
    {
     "data": {
      "text/plain": [
       "\n",
       "\tLog likelihood ratio (G-test) test of independence without correction\n",
       "\n",
       "data:  valores_observados\n",
       "G = 20.398, X-squared df = 4, p-value = 0.0004166\n"
      ]
     },
     "metadata": {},
     "output_type": "display_data"
    }
   ],
   "source": [
    "library(DescTools)\n",
    "GTest(valores_observados)"
   ]
  },
  {
   "cell_type": "markdown",
   "metadata": {},
   "source": [
    "Extraemos los valores esperados de la tabla, mismos que valores sirven para hacer la prueba de independencia y comprobar la hipótesis nula."
   ]
  },
  {
   "cell_type": "code",
   "execution_count": 8,
   "metadata": {},
   "outputs": [
    {
     "data": {
      "text/html": [
       "<table>\n",
       "<caption>A matrix: 3 × 3 of type dbl</caption>\n",
       "<thead>\n",
       "\t<tr><th></th><th scope=col>menos_11</th><th scope=col>once_a_15</th><th scope=col>mayor_a_15</th></tr>\n",
       "</thead>\n",
       "<tbody>\n",
       "\t<tr><th scope=row>menor_18</th><td>22.630</td><td>20.150</td><td>19.22</td></tr>\n",
       "\t<tr><th scope=row>dieciocho_29</th><td>25.185</td><td>22.425</td><td>21.39</td></tr>\n",
       "\t<tr><th scope=row>mayor_a_30</th><td>25.185</td><td>22.425</td><td>21.39</td></tr>\n",
       "</tbody>\n",
       "</table>\n"
      ],
      "text/latex": [
       "A matrix: 3 × 3 of type dbl\n",
       "\\begin{tabular}{r|lll}\n",
       "  & menos\\_11 & once\\_a\\_15 & mayor\\_a\\_15\\\\\n",
       "\\hline\n",
       "\tmenor\\_18 & 22.630 & 20.150 & 19.22\\\\\n",
       "\tdieciocho\\_29 & 25.185 & 22.425 & 21.39\\\\\n",
       "\tmayor\\_a\\_30 & 25.185 & 22.425 & 21.39\\\\\n",
       "\\end{tabular}\n"
      ],
      "text/markdown": [
       "\n",
       "A matrix: 3 × 3 of type dbl\n",
       "\n",
       "| <!--/--> | menos_11 | once_a_15 | mayor_a_15 |\n",
       "|---|---|---|---|\n",
       "| menor_18 | 22.630 | 20.150 | 19.22 |\n",
       "| dieciocho_29 | 25.185 | 22.425 | 21.39 |\n",
       "| mayor_a_30 | 25.185 | 22.425 | 21.39 |\n",
       "\n"
      ],
      "text/plain": [
       "             menos_11 once_a_15 mayor_a_15\n",
       "menor_18     22.630   20.150    19.22     \n",
       "dieciocho_29 25.185   22.425    21.39     \n",
       "mayor_a_30   25.185   22.425    21.39     "
      ]
     },
     "metadata": {},
     "output_type": "display_data"
    }
   ],
   "source": [
    "chi2$expected"
   ]
  },
  {
   "cell_type": "markdown",
   "metadata": {},
   "source": [
    "Extraemos los residuales _no estandarizados_ (crudos) de la prueba de independencia de Pearson."
   ]
  },
  {
   "cell_type": "code",
   "execution_count": 9,
   "metadata": {},
   "outputs": [
    {
     "data": {
      "text/html": [
       "<table>\n",
       "<caption>A matrix: 3 × 3 of type dbl</caption>\n",
       "<thead>\n",
       "\t<tr><th></th><th scope=col>menos_11</th><th scope=col>once_a_15</th><th scope=col>mayor_a_15</th></tr>\n",
       "</thead>\n",
       "<tbody>\n",
       "\t<tr><th scope=row>menor_18</th><td> 2.39011164</td><td>-0.4789619</td><td>-2.10307243</td></tr>\n",
       "\t<tr><th scope=row>dieciocho_29</th><td>-0.03686386</td><td> 0.1214232</td><td>-0.08432556</td></tr>\n",
       "\t<tr><th scope=row>mayor_a_30</th><td>-2.22876876</td><td> 0.3325939</td><td> 2.07786819</td></tr>\n",
       "</tbody>\n",
       "</table>\n"
      ],
      "text/latex": [
       "A matrix: 3 × 3 of type dbl\n",
       "\\begin{tabular}{r|lll}\n",
       "  & menos\\_11 & once\\_a\\_15 & mayor\\_a\\_15\\\\\n",
       "\\hline\n",
       "\tmenor\\_18 &  2.39011164 & -0.4789619 & -2.10307243\\\\\n",
       "\tdieciocho\\_29 & -0.03686386 &  0.1214232 & -0.08432556\\\\\n",
       "\tmayor\\_a\\_30 & -2.22876876 &  0.3325939 &  2.07786819\\\\\n",
       "\\end{tabular}\n"
      ],
      "text/markdown": [
       "\n",
       "A matrix: 3 × 3 of type dbl\n",
       "\n",
       "| <!--/--> | menos_11 | once_a_15 | mayor_a_15 |\n",
       "|---|---|---|---|\n",
       "| menor_18 |  2.39011164 | -0.4789619 | -2.10307243 |\n",
       "| dieciocho_29 | -0.03686386 |  0.1214232 | -0.08432556 |\n",
       "| mayor_a_30 | -2.22876876 |  0.3325939 |  2.07786819 |\n",
       "\n"
      ],
      "text/plain": [
       "             menos_11    once_a_15  mayor_a_15 \n",
       "menor_18      2.39011164 -0.4789619 -2.10307243\n",
       "dieciocho_29 -0.03686386  0.1214232 -0.08432556\n",
       "mayor_a_30   -2.22876876  0.3325939  2.07786819"
      ]
     },
     "metadata": {},
     "output_type": "display_data"
    }
   ],
   "source": [
    "chi2$residuals"
   ]
  },
  {
   "cell_type": "markdown",
   "metadata": {},
   "source": [
    "Extraemos los residuales _estandarizados_ de la prueba de independencia de Pearson"
   ]
  },
  {
   "cell_type": "code",
   "execution_count": 10,
   "metadata": {},
   "outputs": [
    {
     "data": {
      "text/html": [
       "<table>\n",
       "<caption>A matrix: 3 × 3 of type dbl</caption>\n",
       "<thead>\n",
       "\t<tr><th></th><th scope=col>menos_11</th><th scope=col>once_a_15</th><th scope=col>mayor_a_15</th></tr>\n",
       "</thead>\n",
       "<tbody>\n",
       "\t<tr><th scope=row>menor_18</th><td> 3.61082782</td><td>-0.7018180</td><td>-3.0479311</td></tr>\n",
       "\t<tr><th scope=row>dieciocho_29</th><td>-0.05716013</td><td> 0.1826119</td><td>-0.1254336</td></tr>\n",
       "\t<tr><th scope=row>mayor_a_30</th><td>-3.45587080</td><td> 0.5001978</td><td> 3.0908135</td></tr>\n",
       "</tbody>\n",
       "</table>\n"
      ],
      "text/latex": [
       "A matrix: 3 × 3 of type dbl\n",
       "\\begin{tabular}{r|lll}\n",
       "  & menos\\_11 & once\\_a\\_15 & mayor\\_a\\_15\\\\\n",
       "\\hline\n",
       "\tmenor\\_18 &  3.61082782 & -0.7018180 & -3.0479311\\\\\n",
       "\tdieciocho\\_29 & -0.05716013 &  0.1826119 & -0.1254336\\\\\n",
       "\tmayor\\_a\\_30 & -3.45587080 &  0.5001978 &  3.0908135\\\\\n",
       "\\end{tabular}\n"
      ],
      "text/markdown": [
       "\n",
       "A matrix: 3 × 3 of type dbl\n",
       "\n",
       "| <!--/--> | menos_11 | once_a_15 | mayor_a_15 |\n",
       "|---|---|---|---|\n",
       "| menor_18 |  3.61082782 | -0.7018180 | -3.0479311 |\n",
       "| dieciocho_29 | -0.05716013 |  0.1826119 | -0.1254336 |\n",
       "| mayor_a_30 | -3.45587080 |  0.5001978 |  3.0908135 |\n",
       "\n"
      ],
      "text/plain": [
       "             menos_11    once_a_15  mayor_a_15\n",
       "menor_18      3.61082782 -0.7018180 -3.0479311\n",
       "dieciocho_29 -0.05716013  0.1826119 -0.1254336\n",
       "mayor_a_30   -3.45587080  0.5001978  3.0908135"
      ]
     },
     "metadata": {},
     "output_type": "display_data"
    }
   ],
   "source": [
    "chi2$stdres"
   ]
  },
  {
   "cell_type": "markdown",
   "metadata": {},
   "source": [
    "Aunque las pruebas de hipótesis de independencia estadística nos dan un criterio para considerar si hay o no una relación entre las variables que hemos tabulado el análisis de datos categóricos no se detiene allí. Si queremos saber cuáles categorías son las más divergentes –es decir, en cuáles es mayor la diferencia entre valores esperados y observados– podemos observar como se distribuyen los residuos. Los residuos no estandarizados que elaboramos anteriormente nos dan una idea de las diferencias entre valores observados y esperados, pero es difícil compararlos de manera directa ya que no son sensibles a los tamaños de fila o columna."
   ]
  },
  {
   "cell_type": "markdown",
   "metadata": {},
   "source": [
    "_Rule of Thumb for Interpreting Standardized Residuals_\n",
    "\n",
    "A general rule of thumb for figuring out what the standardized residual means, is:\n",
    "\n",
    "  - If the residual is less than -2, the cell’s observed frequency is less than the expected frequency.\n",
    "  - Greater than 2 and the observed frequency is greater than the expected frequency.\n",
    "  - If your residuals are +/-3, then it means that something extremely unusual is happening.\n",
    "  - If you get +/-4, it’s something from the Twilight Zone! \n",
    " \n",
    "This makes sense if you think about the 68 95 99.7 rule: if your data is normally distributed, 95% of your data should be within 2 standard deviations from the mean. If you have something greater than that, then you’re looking at an outlier."
   ]
  },
  {
   "cell_type": "markdown",
   "metadata": {},
   "source": [
    "Obtenemos el valor crítico de Ji cuadrada de tablas."
   ]
  },
  {
   "cell_type": "code",
   "execution_count": 11,
   "metadata": {},
   "outputs": [],
   "source": [
    "r<-nrow(valores_observados)\n",
    "c<-ncol(valores_observados)\n",
    "grados_libertad<-(r-1)*(c-1)"
   ]
  },
  {
   "cell_type": "code",
   "execution_count": 12,
   "metadata": {},
   "outputs": [
    {
     "data": {
      "text/html": [
       "9.48772903678115"
      ],
      "text/latex": [
       "9.48772903678115"
      ],
      "text/markdown": [
       "9.48772903678115"
      ],
      "text/plain": [
       "[1] 9.487729"
      ]
     },
     "metadata": {},
     "output_type": "display_data"
    }
   ],
   "source": [
    "qchisq(0.95, df=grados_libertad)"
   ]
  },
  {
   "cell_type": "markdown",
   "metadata": {},
   "source": [
    "Haciendo la prueba de hipótesis:\n",
    "\n",
    "  - $H_0$: No existe relación entre la velocidad promedio y edad de los ciclistas\n",
    "\n",
    "  - $H_1$: Existe relación entre la velocidad promedio y edad de los ciclistas"
   ]
  },
  {
   "cell_type": "markdown",
   "metadata": {},
   "source": [
    "  De la prueba Chi cuadrada obtuvimos 19.784 y el valor crítico es 9.48772903678115. Siendo el valor calculado mucho mayor al valor crítico."
   ]
  },
  {
   "cell_type": "markdown",
   "metadata": {},
   "source": [
    "De lo anterior hay suficiente evidencia estadística para afirmar que hay _asociación_ entre la velocidad promedio y la edad de los ciclistas.\n",
    "\n",
    "_Esto no implica causalidad, ya que no se puede afirmar que el cambio de edad cause que el ciclista tenga mayor velocidad._\n",
    "\n",
    "Como nota de este ejercicio, vemos que las filas menor a 18 y mayor a 30 tienen una alta variación, por lo cual se necesita hacer una prueba más a profundidad para hacer las afirmaciones anteriores."
   ]
  }
 ],
 "metadata": {
  "kernelspec": {
   "display_name": "R",
   "language": "R",
   "name": "ir"
  },
  "language_info": {
   "codemirror_mode": "r",
   "file_extension": ".r",
   "mimetype": "text/x-r-source",
   "name": "R",
   "pygments_lexer": "r",
   "version": "3.6.1"
  },
  "latex_envs": {
   "LaTeX_envs_menu_present": true,
   "autoclose": false,
   "autocomplete": false,
   "bibliofile": "biblio.bib",
   "cite_by": "apalike",
   "current_citInitial": 1,
   "eqLabelWithNumbers": true,
   "eqNumInitial": 1,
   "hotkeys": {
    "equation": "Ctrl-E",
    "itemize": "Ctrl-I"
   },
   "labels_anchors": false,
   "latex_user_defs": false,
   "report_style_numbering": false,
   "user_envs_cfg": false
  }
 },
 "nbformat": 4,
 "nbformat_minor": 4
}
